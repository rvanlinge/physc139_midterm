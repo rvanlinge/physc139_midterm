{
 "cells": [
  {
   "cell_type": "code",
   "execution_count": 1,
   "metadata": {
    "collapsed": false
   },
   "outputs": [
    {
     "name": "stderr",
     "output_type": "stream",
     "text": [
      "/anaconda/lib/python3.5/site-packages/matplotlib/font_manager.py:273: UserWarning: Matplotlib is building the font cache using fc-list. This may take a moment.\n",
      "  warnings.warn('Matplotlib is building the font cache using fc-list. This may take a moment.')\n",
      "/anaconda/lib/python3.5/site-packages/matplotlib/font_manager.py:273: UserWarning: Matplotlib is building the font cache using fc-list. This may take a moment.\n",
      "  warnings.warn('Matplotlib is building the font cache using fc-list. This may take a moment.')\n"
     ]
    }
   ],
   "source": [
    "import numpy as np\n",
    "import pandas as pd\n",
    "from scipy.optimize import leastsq, minimize\n",
    "from numpy.linalg import inv\n",
    "import matplotlib.pyplot as plt\n",
    "\n",
    "# Reading in the data\n",
    "# For some reason no matter what I do, I lose precision\n",
    "# Also did my own formatting of the data to make it pandas readable\n",
    "dt = pd.read_table('data.txt',sep=' ')\n",
    "\n",
    "\n"
   ]
  },
  {
   "cell_type": "code",
   "execution_count": 37,
   "metadata": {
    "collapsed": false
   },
   "outputs": [],
   "source": [
    "'''\n",
    "Part A\n",
    "'''\n",
    "\n",
    "dt.plot.scatter('x','y',yerr='yerr',color='black')\n",
    "plt.ylim(0,2.5)\n",
    "plt.savefig('plots/p2_a.png')\n",
    "plt.show()\n",
    "\n"
   ]
  },
  {
   "cell_type": "code",
   "execution_count": 38,
   "metadata": {
    "collapsed": false
   },
   "outputs": [
    {
     "name": "stdout",
     "output_type": "stream",
     "text": [
      "These are the best fit parameter values:  [ 2.02401118  1.37622564  1.17978525  4.09101789  1.82923263]\n"
     ]
    }
   ],
   "source": [
    "'''\n",
    "Part B\n",
    "'''\n",
    "\n",
    "# Defining data\n",
    "x = dt['x']\n",
    "y = dt['y']\n",
    "yerr = dt['yerr']\n",
    "\n",
    "# Initial guess\n",
    "b0 = np.array([3,2,1.5,4,2])\n",
    "\n",
    "# Defining the model function\n",
    "def model(x,b):\n",
    "        return b[0]*np.exp(-b[1]*x)+b[2]*np.exp(-0.5*(x-b[3])**2/b[4]**2)\n",
    "def chi_square(b):\n",
    "        return np.sum(((y-model(x,b))/yerr)**2)\n",
    "\n",
    "# Running optimization\n",
    "b_opt = minimize(chi_square,b0)\n",
    "\n",
    "# Running model with parameters\n",
    "y_model = model(x,b_opt.x)\n",
    "\n",
    "# Plotting\n",
    "dt.plot.scatter('x','y',yerr='yerr',color='black',label='Data')\n",
    "plt.plot(x,y_model,color='green',label='Model')\n",
    "plt.legend(loc='best')\n",
    "plt.savefig('p2_b.png')\n",
    "plt.ylim(0,2.5)\n",
    "plt.show()\n",
    "\n",
    "print('These are the best fit parameter values: ',b_opt.x)\n"
   ]
  },
  {
   "cell_type": "code",
   "execution_count": 39,
   "metadata": {
    "collapsed": false
   },
   "outputs": [
    {
     "name": "stdout",
     "output_type": "stream",
     "text": [
      "This is the Hessian [[  163.01764563  -193.0129768    148.02759187  -129.22906275\n",
      "    200.09654948]\n",
      " [ -193.0129768    373.08361084  -436.21921854   326.45012634\n",
      "   -442.67836423]\n",
      " [  148.02759187  -436.21921854  2323.94425319  -100.67154137  1183.2042628 ]\n",
      " [ -129.22906275   326.45012634  -100.67154137   762.29592102\n",
      "   -100.51325096]\n",
      " [  200.09654948  -442.67836423  1183.2042628   -100.51325096\n",
      "   1017.63445442]]\n",
      "This is the covariance [[ 0.03942009  0.03357584  0.00085689 -0.00690023  0.00517675]\n",
      " [ 0.03357584  0.05769213 -0.0014923  -0.01676243  0.01857395]\n",
      " [ 0.00085689 -0.0014923   0.00229831  0.00063598 -0.00342708]\n",
      " [-0.00690023 -0.01676243  0.00063598  0.00793965 -0.00589023]\n",
      " [ 0.00517675  0.01857395 -0.00342708 -0.00589023  0.01243013]]\n"
     ]
    }
   ],
   "source": [
    "'''\n",
    "Part C\n",
    "'''\n",
    "\n",
    "# Scipy minimize returns the inverse Hessian, so to obtain the Hessian, all we have to do is use\n",
    "# Numpy's inverse function\n",
    "\n",
    "hess = b_opt.hess_inv\n",
    "hess = inv(hess)\n",
    "\n",
    "covar = inv(0.5*hess)\n",
    "\n",
    "print('This is the Hessian',hess)\n",
    "print('This is the covariance',covar)\n",
    "\n"
   ]
  },
  {
   "cell_type": "code",
   "execution_count": 27,
   "metadata": {
    "collapsed": false
   },
   "outputs": [
    {
     "name": "stdout",
     "output_type": "stream",
     "text": [
      "[ 0.19854492  0.24019187  0.04794073  0.08910473  0.11149051]\n"
     ]
    }
   ],
   "source": [
    "'''\n",
    "Part D\n",
    "'''\n",
    "def sigma(array):\n",
    "        '''\n",
    "        This function finds the individual errors of the parameters \n",
    "        using the covariance array\n",
    "        '''\n",
    "        sigma = []\n",
    "        for i in range(array.shape[0]):\n",
    "                sigma.append(np.sqrt(array[i][i]))\n",
    "        return np.array(sigma)\n",
    "\n",
    "\n",
    "err = sigma(covar)\n",
    "print(err)\n",
    "\n"
   ]
  },
  {
   "cell_type": "code",
   "execution_count": 28,
   "metadata": {
    "collapsed": false
   },
   "outputs": [],
   "source": [
    "'''\n",
    "Part E\n",
    "'''\n",
    "def marginalize(hess,covar,para_1,para_2):\n",
    "        '''\n",
    "        Will marginalize all the parameters except the ones inputted\n",
    "        and return the NxN hessian and covariance of inputted parameters\n",
    "        '''\n",
    "        p1 = para_1 - 1\n",
    "        p2 = para_2 - 1\n",
    "\n",
    "        h_ii = hess[p1][p1]\n",
    "        h_ij = hess[p1][p2]\n",
    "        h_ji = hess[p2][p1]\n",
    "        h_jj = hess[p2][p2]\n",
    "        \n",
    "        c_ii = covar[p1][p1]\n",
    "        c_ij = covar[p1][p2]\n",
    "        c_ji = covar[p2][p1]\n",
    "        c_jj = covar[p2][p2]\n",
    "\n",
    "        marg_hess = np.array([[h_ii,h_ij],[h_ji,h_jj]])\n",
    "        marg_covar = np.array([[c_ii,c_ij],[c_ji,c_jj]])\n",
    "        \n",
    "        return marg_hess, marg_covar\n",
    "\n",
    "hess_m, covar_m = marginalize(hess,covar,3,5)\n",
    "\n",
    "# Sigma values for b3 and b5 are the same from\n",
    "# Equation for a an ellipse that outlines the 95% \n",
    "# (b3/sigma_b3)**2 + (b5/sigma_b5)**2 = 5.991\n",
    "# the 5.991 comes from a chi**2 distribution for 2 DOF"
   ]
  },
  {
   "cell_type": "code",
   "execution_count": 75,
   "metadata": {
    "collapsed": false
   },
   "outputs": [
    {
     "data": {
      "text/plain": [
       "1.2734069009890041"
      ]
     },
     "execution_count": 75,
     "metadata": {},
     "output_type": "execute_result"
    }
   ],
   "source": [
    "alpha"
   ]
  },
  {
   "cell_type": "code",
   "execution_count": 74,
   "metadata": {
    "collapsed": false
   },
   "outputs": [
    {
     "name": "stdout",
     "output_type": "stream",
     "text": [
      "1.27340690099\n"
     ]
    },
    {
     "ename": "TypeError",
     "evalue": "'numpy.float64' object is not callable",
     "output_type": "error",
     "traceback": [
      "\u001b[0;31m---------------------------------------------------------------------------\u001b[0m",
      "\u001b[0;31mTypeError\u001b[0m                                 Traceback (most recent call last)",
      "\u001b[0;32m<ipython-input-74-40f551461ad1>\u001b[0m in \u001b[0;36m<module>\u001b[0;34m()\u001b[0m\n\u001b[1;32m     23\u001b[0m \u001b[0;31m#print(eigen_val)\u001b[0m\u001b[0;34m\u001b[0m\u001b[0;34m\u001b[0m\u001b[0m\n\u001b[1;32m     24\u001b[0m \u001b[0;31m# Plots it all\u001b[0m\u001b[0;34m\u001b[0m\u001b[0;34m\u001b[0m\u001b[0m\n\u001b[0;32m---> 25\u001b[0;31m \u001b[0mell\u001b[0m \u001b[0;34m=\u001b[0m \u001b[0mEllipse\u001b[0m\u001b[0;34m(\u001b[0m\u001b[0mxy\u001b[0m\u001b[0;34m=\u001b[0m\u001b[0;34m(\u001b[0m\u001b[0mx\u001b[0m\u001b[0;34m,\u001b[0m\u001b[0my\u001b[0m\u001b[0;34m)\u001b[0m\u001b[0;34m,\u001b[0m \u001b[0mwidth\u001b[0m\u001b[0;34m=\u001b[0m\u001b[0mminor\u001b[0m\u001b[0;34m,\u001b[0m \u001b[0mheight\u001b[0m\u001b[0;34m=\u001b[0m\u001b[0mmajor\u001b[0m\u001b[0;34m,\u001b[0m \u001b[0mangle\u001b[0m\u001b[0;34m=\u001b[0m\u001b[0malpha\u001b[0m\u001b[0;34m(\u001b[0m\u001b[0;36m180\u001b[0m\u001b[0;34m/\u001b[0m\u001b[0mmath\u001b[0m\u001b[0;34m.\u001b[0m\u001b[0mpi\u001b[0m\u001b[0;34m)\u001b[0m\u001b[0;34m)\u001b[0m\u001b[0;34m\u001b[0m\u001b[0m\n\u001b[0m\u001b[1;32m     26\u001b[0m \u001b[0mfig\u001b[0m\u001b[0;34m,\u001b[0m\u001b[0max\u001b[0m \u001b[0;34m=\u001b[0m \u001b[0mplt\u001b[0m\u001b[0;34m.\u001b[0m\u001b[0msubplots\u001b[0m\u001b[0;34m(\u001b[0m\u001b[0mnrows\u001b[0m\u001b[0;34m=\u001b[0m\u001b[0;36m1\u001b[0m\u001b[0;34m,\u001b[0m\u001b[0mncols\u001b[0m\u001b[0;34m=\u001b[0m\u001b[0;36m1\u001b[0m\u001b[0;34m)\u001b[0m\u001b[0;34m\u001b[0m\u001b[0m\n\u001b[1;32m     27\u001b[0m \u001b[0max\u001b[0m\u001b[0;34m.\u001b[0m\u001b[0madd_artist\u001b[0m\u001b[0;34m(\u001b[0m\u001b[0mell\u001b[0m\u001b[0;34m)\u001b[0m\u001b[0;34m\u001b[0m\u001b[0m\n",
      "\u001b[0;31mTypeError\u001b[0m: 'numpy.float64' object is not callable"
     ]
    }
   ],
   "source": [
    "from numpy.linalg import eig\n",
    "from matplotlib.patches import Ellipse\n",
    "import math\n",
    "# Finds the eigen values to calculate the angle\n",
    "eigen_val, eigen_vec = eig(covar_m)\n",
    "\n",
    "eigen_max = np.where(eigen_val == np.max(eigen_val))[0][0]\n",
    "\n",
    "# calculates the angle\n",
    "alpha = np.arctan(eigen_vec[eigen_max][1]/eigen_vec[eigen_max][0])\n",
    "\n",
    "# calculating length of major and minor axis\n",
    "minor = 2*np.sqrt(eigen_val[0]*5.991)\n",
    "major = 2*np.sqrt(eigen_val[1]*5.991)\n",
    "\n",
    "# placing x and y values\n",
    "x = b_opt.x[2] # b3\n",
    "y = b_opt.x[4] # b4\n",
    "\n",
    "print(alpha)\n",
    "\n",
    "\n",
    "#print(eigen_val)\n",
    "# Plots it all \n",
    "ell = Ellipse(xy=(x,y), width=minor, height=major, angle=alpha(180/math.pi))\n",
    "fig,ax = plt.subplots(nrows=1,ncols=1)\n",
    "ax.add_artist(ell)\n",
    "plt.show()\n"
   ]
  },
  {
   "cell_type": "markdown",
   "metadata": {},
   "source": [
    "# Question 3"
   ]
  },
  {
   "cell_type": "code",
   "execution_count": 40,
   "metadata": {
    "collapsed": false
   },
   "outputs": [
    {
     "name": "stdout",
     "output_type": "stream",
     "text": [
      "2.1581016683 +/- 0.100994049028\n"
     ]
    }
   ],
   "source": [
    "'''\n",
    "Part A\n",
    "'''\n",
    "\n",
    "def LPE(array,param_1,param_2):\n",
    "    '''\n",
    "    Takes in the 2x2 marginalized covariance matrix, parameter 1's value, and parameter 2' value \n",
    "    and calculates the error using Linearized propagation of errors\n",
    "    '''\n",
    "    var = (param_1**2*array[0][0])+(2*param_1*param_2*array[0][1])+(param_2**2*array[1][1])\n",
    "    sigma = np.sqrt(var)\n",
    "    \n",
    "    return sigma\n",
    "\n",
    "f = b_opt.x[2]*b_opt.x[4]\n",
    "sigma = LPE(covar_m,b_opt.x[4],b_opt.x[2])\n",
    "\n",
    "print(f,'+/-',sigma)"
   ]
  },
  {
   "cell_type": "code",
   "execution_count": 46,
   "metadata": {
    "collapsed": false
   },
   "outputs": [
    {
     "name": "stdout",
     "output_type": "stream",
     "text": [
      "[[ 0.03942009  0.03357584  0.00085689 -0.00690023  0.00517675]\n",
      " [ 0.03357584  0.05769213 -0.0014923  -0.01676243  0.01857395]\n",
      " [ 0.00085689 -0.0014923   0.00229831  0.00063598 -0.00342708]\n",
      " [-0.00690023 -0.01676243  0.00063598  0.00793965 -0.00589023]\n",
      " [ 0.00517675  0.01857395 -0.00342708 -0.00589023  0.01243013]]\n",
      "0.010199797939\n",
      "0.100994049028\n"
     ]
    }
   ],
   "source": [
    "var = b_opt.x[2]**2*covar[4][4] + 2*b_opt.x[2]*b_opt.x[4]*covar[2][4] + b_opt.x[4]**2*covar[2][2]\n",
    "sigma = np.sqrt(var)\n",
    "\n",
    "print(covar)\n",
    "print(var)\n",
    "print(sigma)\n"
   ]
  },
  {
   "cell_type": "code",
   "execution_count": 51,
   "metadata": {
    "collapsed": false
   },
   "outputs": [
    {
     "name": "stdout",
     "output_type": "stream",
     "text": [
      "2.1534494435 +/- 0.10088058284\n"
     ]
    }
   ],
   "source": [
    "'''\n",
    "Part B\n",
    "'''\n",
    "\n",
    "bees = np.random.multivariate_normal(b_opt.x,covar,10**4)\n",
    "humps = bees.T[2]*bees.T[4]\n",
    "plt.hist(humps,bins=30)\n",
    "plt.savefig('plots/p3_b.png')\n",
    "plt.show()\n",
    "std = np.std(humps)\n",
    "mean = np.mean(humps)\n",
    "\n",
    "print(mean,'+/-',std)"
   ]
  }
 ],
 "metadata": {
  "kernelspec": {
   "display_name": "Python 3",
   "language": "python",
   "name": "python3"
  },
  "language_info": {
   "codemirror_mode": {
    "name": "ipython",
    "version": 3
   },
   "file_extension": ".py",
   "mimetype": "text/x-python",
   "name": "python",
   "nbconvert_exporter": "python",
   "pygments_lexer": "ipython3",
   "version": "3.5.1"
  }
 },
 "nbformat": 4,
 "nbformat_minor": 2
}
