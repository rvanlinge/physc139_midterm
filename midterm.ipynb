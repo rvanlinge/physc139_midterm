{
 "cells": [
  {
   "cell_type": "code",
   "execution_count": 6,
   "metadata": {},
   "outputs": [],
   "source": [
    "import numpy as np\n",
    "import pandas as pd\n",
    "from scipy.optimize import leastsq, minimize\n",
    "from numpy.linalg import inv\n",
    "import matplotlib.pyplot as plt\n",
    "\n",
    "# Reading in the data\n",
    "# For some reason no matter what I do, I lose precision\n",
    "# Also did my own formatting of the data to make it pandas readable\n",
    "dt = pd.read_table('data.txt',sep=' ')\n",
    "\n",
    "\n"
   ]
  },
  {
   "cell_type": "code",
   "execution_count": 8,
   "metadata": {},
   "outputs": [
    {
     "data": {
      "image/png": "[encoded data removed]",
      "text/plain": [
       "<matplotlib.figure.Figure at 0x7fe6e99adc90>"
      ]
     },
     "metadata": {},
     "output_type": "display_data"
    }
   ],
   "source": [
    "'''\n",
    "Part A\n",
    "'''\n",
    "\n",
    "dt.plot.scatter('x','y',yerr='yerr',color='black')\n",
    "plt.ylim(0,2.5)\n",
    "plt.savefig('plots/p2_a.png')\n",
    "plt.show()\n",
    "\n"
   ]
  },
  {
   "cell_type": "code",
   "execution_count": 10,
   "metadata": {},
   "outputs": [
    {
     "data": {
      "image/png": "[encoded data removed]",
      "text/plain": [
       "<matplotlib.figure.Figure at 0x7fe6e97a8590>"
      ]
     },
     "metadata": {},
     "output_type": "display_data"
    }
   ],
   "source": [
    "'''\n",
    "Part B\n",
    "'''\n",
    "\n",
    "# Defining data\n",
    "x = dt['x']\n",
    "y = dt['y']\n",
    "yerr = dt['yerr']\n",
    "\n",
    "# Initial guess\n",
    "b0 = np.array([3,2,1.5,4,2])\n",
    "\n",
    "# Defining the model function\n",
    "def model(x,b):\n",
    "        return b[0]*np.exp(-b[1]*x)+b[2]*np.exp(-0.5*(x-b[3])**2/b[4]**2)\n",
    "def chi_square(b):\n",
    "        return np.sum(((y-model(x,b))/yerr)**2)\n",
    "\n",
    "# Running optimization\n",
    "b_opt = minimize(chi_square,b0)\n",
    "\n",
    "# Running model with parameters\n",
    "y_model = model(x,b_opt.x)\n",
    "\n",
    "# Plotting\n",
    "dt.plot.scatter('x','y',yerr='yerr',color='black',label='Data')\n",
    "plt.plot(x,y_model,color='green',label='Model')\n",
    "plt.legend(loc='best')\n",
    "plt.savefig('p2_b.png')\n",
    "plt.ylim(0,2.5)\n",
    "plt.show()\n",
    "\n"
   ]
  },
  {
   "cell_type": "code",
   "execution_count": 12,
   "metadata": {},
   "outputs": [
    {
     "name": "stdout",
     "output_type": "stream",
     "text": [
      "('This is the Hessian', array([[ 155.41039247, -185.47752889,  134.91074235, -129.12943443,\n",
      "         188.08723927],\n",
      "       [-185.47752889,  376.83533292, -446.72572442,  343.25307889,\n",
      "        -445.85369922],\n",
      "       [ 134.91074235, -446.72572442, 2310.50102556, -144.41214458,\n",
      "        1185.11063127],\n",
      "       [-129.12943443,  343.25307889, -144.41214458,  788.32883145,\n",
      "        -129.28495678],\n",
      "       [ 188.08723927, -445.85369922, 1185.11063127, -129.28495678,\n",
      "        1015.55677853]]))\n",
      "('This is the covariance', array([[ 0.03915574,  0.03245568,  0.0010431 , -0.00671938,  0.00492428],\n",
      "       [ 0.03245568,  0.05576366, -0.00135007, -0.01626358,  0.01797564],\n",
      "       [ 0.0010431 , -0.00135007,  0.00235412,  0.00062355, -0.00345368],\n",
      "       [-0.00671938, -0.01626358,  0.00062355,  0.00770675, -0.00564219],\n",
      "       [ 0.00492428,  0.01797564, -0.00345368, -0.00564219,  0.01226111]]))\n"
     ]
    }
   ],
   "source": [
    "'''\n",
    "Part C\n",
    "'''\n",
    "\n",
    "# Scipy minimize returns the inverse Hessian, so to obtain the Hessian, all we have to do is use\n",
    "# Numpy's inverse function\n",
    "\n",
    "hess = b_opt.hess_inv\n",
    "hess = inv(hess)\n",
    "\n",
    "covar = inv(0.5*hess)\n",
    "\n",
    "print('This is the Hessian',hess)\n",
    "print('This is the covariance',covar)\n",
    "\n"
   ]
  },
  {
   "cell_type": "code",
   "execution_count": 14,
   "metadata": {},
   "outputs": [
    {
     "name": "stdout",
     "output_type": "stream",
     "text": [
      "[0.1978781  0.23614331 0.04851931 0.0877881  0.11072989]\n"
     ]
    }
   ],
   "source": [
    "'''\n",
    "Part D\n",
    "'''\n",
    "def sigma(array):\n",
    "        '''\n",
    "        This function finds the individual errors of the parameters \n",
    "        using the covariance array\n",
    "        '''\n",
    "        sigma = []\n",
    "        for i in range(array.shape[0]):\n",
    "                sigma.append(np.sqrt(array[i][i]))\n",
    "        return np.array(sigma)\n",
    "\n",
    "\n",
    "err = sigma(covar)\n",
    "print(err)\n",
    "\n"
   ]
  },
  {
   "cell_type": "code",
   "execution_count": 22,
   "metadata": {},
   "outputs": [],
   "source": [
    "'''\n",
    "Part E\n",
    "'''\n",
    "def marginalize(array,para_1,para_2):\n",
    "        '''\n",
    "        Will marginalize all the parameters except the ones inputted\n",
    "        and return the NxN hessian and covariance of inputted parameters\n",
    "        '''\n",
    "        p1 = para_1 - 1\n",
    "        p2 = para_2 - 1\n",
    "\n",
    "        c_ii = array[p1][p1]\n",
    "        c_ij = array[p1][p2]\n",
    "        c_ji = array[p2][p1]\n",
    "        c_jj = array[p2][p2]\n",
    "\n",
    "        hess = np.array([[c_ii,c_ji],[c_ij,c_jj]])\n",
    "        covar = inv(0.5*hess)\n",
    "        return hess, covar\n",
    "\n",
    "hess_m, covar_m = marginalize(hess,3,5)\n",
    "\n",
    "sigma_m = sigma(covar_m)"
   ]
  },
  {
   "cell_type": "code",
   "execution_count": 23,
   "metadata": {},
   "outputs": [
    {
     "data": {
      "text/plain": [
       "array([0.04643563, 0.070041  ])"
      ]
     },
     "execution_count": 23,
     "metadata": {},
     "output_type": "execute_result"
    }
   ],
   "source": [
    "sigma_m"
   ]
  }
 ],
 "metadata": {
  "kernelspec": {
   "display_name": "Python 2",
   "language": "python",
   "name": "python2"
  },
  "language_info": {
   "codemirror_mode": {
    "name": "ipython",
    "version": 2
   },
   "file_extension": ".py",
   "mimetype": "text/x-python",
   "name": "python",
   "nbconvert_exporter": "python",
   "pygments_lexer": "ipython2",
   "version": "2.7.14"
  }
 },
 "nbformat": 4,
 "nbformat_minor": 2
}
